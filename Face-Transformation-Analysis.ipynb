{
 "cells": [
  {
   "cell_type": "code",
   "execution_count": 14,
   "metadata": {},
   "outputs": [],
   "source": [
    "import numpy as np\n",
    "import cv2\n",
    "import matplotlib\n",
    "matplotlib.use('TkAgg')\n",
    "import matplotlib.pyplot as plt\n",
    "from subprocess import Popen, PIPE\n",
    "import numpy as np\n",
    "from skimage import io\n",
    "import random\n",
    "from PIL import Image"
   ]
  },
  {
   "cell_type": "code",
   "execution_count": 2,
   "metadata": {},
   "outputs": [],
   "source": [
    "def read_image(address):\n",
    "    img = cv2.imread(address)\n",
    "    img = cv2.cvtColor(img, cv2.COLOR_BGR2GRAY)\n",
    "    return img"
   ]
  },
  {
   "cell_type": "code",
   "execution_count": 32,
   "metadata": {},
   "outputs": [
    {
     "data": {
      "text/plain": [
       "0"
      ]
     },
     "execution_count": 32,
     "metadata": {},
     "output_type": "execute_result"
    }
   ],
   "source": [
    "\n",
    "img_1941 = read_image('inputs/P4/kobytev_1941.png')\n",
    "img_1941 = img_1941[0:956, 0:771]\n",
    "\n",
    "img_1945 = read_image('inputs/P4/kobytev_1945.png')\n",
    "duration = 2\n",
    "frame_rate = 30\n",
    "p = Popen(['ffmpeg', '-y', '-f', 'image2pipe', '-r', str(frame_rate),'-s',str(img_1945.shape[1])+'x'+str(img_1945.shape[0]), '-i', '-', '-c:v', 'libx264', '-crf', '25','-vf','scale=trunc(iw/2)*2:trunc(ih/2)*2','-pix_fmt','yuv420p', \"output1.mp4\"], stdin=PIPE)\n",
    "\n",
    "counts= int(duration*frame_rate)\n",
    "for count in range(counts):\n",
    "    alpha = count/(counts-1)\n",
    "    beta = (1.0 - alpha)\n",
    "    dst = np.uint8(alpha * (img_1945) + beta * (img_1941))\n",
    "    output_address = \"outputs/q4/p1/\"+ str(count)+\"_alpha_\"+str(alpha)+\".png\"\n",
    "    cv2.imwrite(output_address, dst)\n",
    "    res = Image.fromarray(cv2.cvtColor(np.uint8(dst), cv2.COLOR_BGR2RGB))\n",
    "    res.save(p.stdin,'JPEG')\n",
    "\n",
    "p.stdin.close()\n",
    "p.wait()\n",
    "\n"
   ]
  },
  {
   "cell_type": "markdown",
   "metadata": {},
   "source": [
    "Part B:"
   ]
  },
  {
   "cell_type": "code",
   "execution_count": 4,
   "metadata": {},
   "outputs": [],
   "source": [
    "def define_points_of_images(image,number_of_points=26):\n",
    "    plt.imshow(image)\n",
    "    points= plt.ginput(number_of_points,timeout=-1)\n",
    "    plt.close()\n",
    "    return points"
   ]
  },
  {
   "cell_type": "code",
   "execution_count": 27,
   "metadata": {},
   "outputs": [],
   "source": [
    "def draw_circle(img,points):\n",
    "    image = img\n",
    "    for point in points:\n",
    "        center_coordinates = (int(point[0]), int(point[1]))\n",
    "        radius = 2\n",
    "        color = (0, 0, 255)\n",
    "        thickness = 2\n",
    "        image = cv2.circle(image, center_coordinates, radius, color, thickness)\n",
    "    output_address = \"outputs/q4/.png\"\n",
    "    cv2.imwrite(output_address, image)"
   ]
  },
  {
   "cell_type": "code",
   "execution_count": null,
   "metadata": {},
   "outputs": [],
   "source": [
    "def add_fix_points(list_points,shape):\n",
    "    list_points.append((1,1))\n",
    "    list_points.append((shape[1]-1,1))\n",
    "    list_points.append(((shape[1]-1)//2,1))\n",
    "    list_points.append((1,shape[0]-1))\n",
    "    list_points.append((1,(shape[0]-1)//2))\n",
    "    list_points.append(((shape[1]-1)//2,shape[0]-1))\n",
    "    list_points.append((shape[1]-1,shape[0]-1))\n",
    "    list_points.append(((shape[1]-1),(shape[0]-1)//2))"
   ]
  },
  {
   "cell_type": "code",
   "execution_count": null,
   "metadata": {},
   "outputs": [],
   "source": [
    "def add_fix_points2(list_detail,shape):\n",
    "    arr = list_detail/2\n",
    "    arr = np.append(arr,[[1,1]],axis=0)\n",
    "    arr = np.append(arr,[[shape[1]-1,1]],axis=0)\n",
    "    arr = np.append(arr,[[(shape[1]-1)//2,1]],axis=0)\n",
    "    arr = np.append(arr,[[1,shape[0]-1]],axis=0)\n",
    "    arr = np.append(arr,[[1,(shape[0]-1)//2]],axis=0)\n",
    "    arr = np.append(arr,[[(shape[1]-1)//2,shape[0]-1]],axis=0)\n",
    "    arr = np.append(arr,[[shape[1]-1,shape[0]-1]],axis=0)\n",
    "    arr = np.append(arr,[[(shape[1]-1),(shape[0]-1)//2]],axis=0)\n",
    "    return arr"
   ]
  },
  {
   "cell_type": "code",
   "execution_count": 9,
   "metadata": {},
   "outputs": [],
   "source": [
    "def define_points(imgList):\n",
    "    list_detail = np.zeros((26,2))\n",
    "    list_points_image_1 = []\n",
    "    list_points_image_2 = []\n",
    "    for w in range(len(imgList)):\n",
    "        img = imgList[j]\n",
    "        points = define_points_of_images(img)\n",
    "        draw_circle(img,points)\n",
    "        if(w == 0):\n",
    "            list_points = list_points_image_1\n",
    "        else:\n",
    "            list_points = list_points_image_2\n",
    "        for i in range(26):\n",
    "            list_points.append((int(points[i][0]), int(points[i][1])))\n",
    "            list_detail[i][0] += int(points[i][0])\n",
    "            list_detail[i][1] += int(points[i][1])\n",
    "        list_points = add_fix_points(list_points,(img.shape[0],img.shape[1]))\n",
    "    combine = add_fix_points2(list_detail,(img.shape[0],img.shape[1]))\n",
    "    \n",
    "    return list_points_image_1,list_points_image_2,combine"
   ]
  },
  {
   "cell_type": "code",
   "execution_count": null,
   "metadata": {},
   "outputs": [],
   "source": [
    "def is_contain(rectange, point):\n",
    "    if point[0] < rectange[0] or point[1] < rectange[1] or point[0] > rectange[2] or point[1] > rectange[3]:\n",
    "        return False\n",
    "    return True"
   ]
  },
  {
   "cell_type": "code",
   "execution_count": null,
   "metadata": {},
   "outputs": [],
   "source": [
    "def draw_delaunay(size, s, dic):\n",
    "    list_of_d = [] \n",
    "    r = (0, 0,  size[0],  size[1])\n",
    "    for t in s.getTriangleList() :\n",
    "        point1 = (int(t[0]), int(t[1]))\n",
    "        point2 = (int(t[2]), int(t[3]))\n",
    "        point3 = (int(t[4]), int(t[5]))\n",
    "        if is_contain(r, point1) and is_contain(r, point2) and is_contain(r, point3) :\n",
    "            list_of_d.append((dic[point1],dic[point2],dic[point3]))\n",
    "    dic = {}\n",
    "    return list_of_d"
   ]
  },
  {
   "cell_type": "code",
   "execution_count": 10,
   "metadata": {},
   "outputs": [],
   "source": [
    "def create_delaunay(size, lists):\n",
    "    d = cv2.Subdiv2D((0, 0, size[1], size[0]))\n",
    "    points = [(int(x[0]),int(x[1])) for x in lists]\n",
    "    dictionary = {x[0]:x[1] for x in list(zip(points, range(26)))}\n",
    "    for p in points:\n",
    "        d.insert(p)\n",
    "    list4 = draw_delaunay(size, d, dictionary)\n",
    "    return list4"
   ]
  },
  {
   "cell_type": "code",
   "execution_count": null,
   "metadata": {},
   "outputs": [],
   "source": [
    "def transform_rectangles(src, first, second, shape) :\n",
    "    output = cv2.warpAffine(src, cv2.getAffineTransform(np.float32(first), np.float32(second)) , (shape[0], shape[1]) , None , flags=cv2.INTER_LINEAR , borderMode=cv2.BORDER_REFLECT_101)\n",
    "    return output"
   ]
  },
  {
   "cell_type": "code",
   "execution_count": null,
   "metadata": {},
   "outputs": [],
   "source": [
    "def morphology(img1, img2, img, t1, t2, t, alpha) :\n",
    "    r1 = cv2.boundingRect(np.float32([t1]))\n",
    "    r2 = cv2.boundingRect(np.float32([t2]))\n",
    "    r = cv2.boundingRect(np.float32([t]))\n",
    "    t1Rectangels = []\n",
    "    t2Rectangels = []\n",
    "    tRectangels = []\n",
    "    for i in range(3):\n",
    "        tRectangels.append(((t[i][0] - r[0]),(t[i][1] - r[1])))\n",
    "        t1Rectangels.append(((t1[i][0] - r1[0]),(t1[i][1] - r1[1])))\n",
    "        t2Rectangels.append(((t2[i][0] - r2[0]),(t2[i][1] - r2[1])))\n",
    "    m = np.zeros((r[3], r[2], 3)).astype(float)\n",
    "    cv2.fillConvexPoly(m, np.int32(tRectangels), (1.0, 1.0, 1.0), 16, 0)\n",
    "    size = (r[2], r[3])\n",
    "    wimage1 = transform_rectangles(img1[r1[1]:r1[1] + r1[3], r1[0]:r1[0] + r1[2]], t1Rectangels, tRectangels, size)\n",
    "    wimage2 = transform_rectangles(img2[r2[1]:r2[1] + r2[3], r2[0]:r2[0] + r2[2]], t2Rectangels, tRectangels, size)\n",
    "    final_img = (1.0 - alpha) * wimage1 + alpha * wimage2\n",
    "    img[r[1]:r[1]+r[3], r[0]:r[0]+r[2]] = m * final_img  + ( 1 - m ) * img[r[1]:r[1]+r[3], r[0]:r[0]+r[2]] \n",
    "\n"
   ]
  },
  {
   "cell_type": "code",
   "execution_count": 18,
   "metadata": {},
   "outputs": [],
   "source": [
    "def create_video(seconds,frame_rate,img1,img2,points1,points2,tri_list,size,output):\n",
    "    counts = int(seconds*frame_rate)\n",
    "    p = Popen(['ffmpeg', '-y', '-f', 'image2pipe', '-r', str(frame_rate),'-s',str(size[1])+'x'+str(size[0]), '-i', '-', '-c:v', 'libx264', '-crf', '25','-vf','scale=trunc(iw/2)*2:trunc(ih/2)*2','-pix_fmt','yuv420p', output], stdin=PIPE)\n",
    "    for j in range(0, counts):\n",
    "        img1 = np.float32(img1)\n",
    "        img2 = np.float32(img2)\n",
    "        points = []\n",
    "        alpha = j/(counts-1)\n",
    "        for i in range(0, len(points1)):\n",
    "            points.append(( alpha * points2[i][0] + (1 - alpha) * points1[i][0], alpha * points2[i][1] + (1 - alpha) * points1[i][1]))\n",
    "        output = np.zeros(img1.shape).astype(img1.dtype)\n",
    "        for i in range(len(tri_list)):    \n",
    "            x = int(tri_list[i][0])\n",
    "            y = int(tri_list[i][1])\n",
    "            z = int(tri_list[i][2])  \n",
    "            t1 = [points1[x], points1[y], points1[z]]\n",
    "            t2 = [points2[x], points2[y], points2[z]]\n",
    "            t = [points[x], points[y], points[z]]\n",
    "            morphology(img1, img2, output, t1, t2, t, alpha)\n",
    "\n",
    "        out_image = Image.fromarray(cv2.cvtColor(np.uint8(output), cv2.COLOR_BGR2RGB))\n",
    "        output_address = \"outputs/q4/p2/\"+ str(j)+\"_alpha_\"+str(alpha)+\".png\"\n",
    "        cv2.imwrite(output_address, np.array(out_image))\n",
    "        out_image.save(p.stdin,'JPEG')\n",
    "\n",
    "    p.stdin.close()\n",
    "    p.wait()"
   ]
  },
  {
   "cell_type": "code",
   "execution_count": 20,
   "metadata": {},
   "outputs": [],
   "source": [
    "img = cv2.imread(\"inputs/P4/kobytev_1941.png\")\n",
    "img2 = cv2.imread(\"inputs/P4/kobytev_1945.png\")\n",
    "images =[img, img2]\n",
    "points1, points2, list_points = define_points(images)\n",
    "shape = (img.shape[0],img.shape[1])\n",
    "tri = create_delaunay(shape, list_points.tolist())\n",
    "create_video(2, 30, img, img2, points1, points2,tri, shape, \"output.mp4\")\n"
   ]
  }
 ],
 "metadata": {
  "kernelspec": {
   "display_name": "Python 3.9.7 ('base')",
   "language": "python",
   "name": "python3"
  },
  "language_info": {
   "codemirror_mode": {
    "name": "ipython",
    "version": 3
   },
   "file_extension": ".py",
   "mimetype": "text/x-python",
   "name": "python",
   "nbconvert_exporter": "python",
   "pygments_lexer": "ipython3",
   "version": "3.9.7"
  },
  "orig_nbformat": 4,
  "vscode": {
   "interpreter": {
    "hash": "ad2bdc8ecc057115af97d19610ffacc2b4e99fae6737bb82f5d7fb13d2f2c186"
   }
  }
 },
 "nbformat": 4,
 "nbformat_minor": 2
}
